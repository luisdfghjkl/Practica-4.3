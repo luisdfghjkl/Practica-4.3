{
 "cells": [
  {
   "cell_type": "code",
   "execution_count": 63,
   "metadata": {},
   "outputs": [],
   "source": [
    "def dijkstra(grafo,inicio,meta):\n",
    "    distancia_menor = {}\n",
    "    predecesor = {}\n",
    "    NodosNoVistos = grafo\n",
    "    infinito = 9999999\n",
    "    path = []\n",
    "    for nodo in NodosNoVistos:\n",
    "        distancia_menor[nodo] = infinito\n",
    "    distancia_menor[inicio] = 0\n",
    " \n",
    "    while NodosNoVistos:\n",
    "        minNodo = None\n",
    "        for nodo in NodosNoVistos:\n",
    "            if minNodo is None:\n",
    "                minNodo = nodo\n",
    "            elif distancia_menor[nodo] < distancia_menor[minNodo]:\n",
    "                minNodo = nodo\n",
    " \n",
    "        for NodoHijo, peso in grafo[minNodo].items():\n",
    "            if peso + distancia_menor[minNodo] < distancia_menor[NodoHijo]:\n",
    "                distancia_menor[NodoHijo] = peso + distancia_menor[minNodo]\n",
    "                predecesor[NodoHijo] = minNodo\n",
    "        NodosNoVistos.pop(minNodo)\n",
    " \n",
    "    NodoActual = meta\n",
    "    while NodoActual != inicio:\n",
    "        try:\n",
    "            path.insert(0,NodoActual)\n",
    "            NodoActual = predecesor[NodoActual]\n",
    "        except KeyError:\n",
    "            print('No disponible')\n",
    "            break\n",
    "    path.insert(0,inicio)\n",
    "    if distancia_menor[meta] != infinito:\n",
    "        print('La distancia mas corta es:  ' + str(distancia_menor[meta]))\n",
    "        print('La ruta mas corta es:  ' + str(path))"
   ]
  },
  {
   "cell_type": "code",
   "execution_count": 64,
   "metadata": {},
   "outputs": [
    {
     "name": "stdout",
     "output_type": "stream",
     "text": [
      "a b c d e\n",
      "{'a': {'b': 10, 'c': 3}, 'b': {'c': 1, 'd': 2}, 'c': {'b': 4, 'd': 8, 'e': 2}, 'd': {'e': 7}, 'e': {'d': 9}}\n",
      "La distancia mas corta es:  7\n",
      "La ruta mas corta es:  ['a', 'c', 'b']\n"
     ]
    }
   ],
   "source": [
    "lineas = open(\"archivo.txt\").readlines()\n",
    "a=str(lineas[0].strip())\n",
    "b=str(lineas [3].strip())\n",
    "c=str(lineas [6].strip())\n",
    "d=str(lineas [10].strip())\n",
    "e=str(lineas [18].strip())\n",
    "\n",
    "d1= int(lineas [2].strip())\n",
    "d2= int (lineas[21].strip())\n",
    "d3=int(lineas [5].strip())\n",
    "d4=int(lineas [14].strip())\n",
    "d5= int(lineas [8].strip())\n",
    "d6= int(lineas [11].strip())\n",
    "d7= int(lineas [14].strip())\n",
    "d8=int(lineas [17].strip())\n",
    "d9=int(lineas [20].strip())\n",
    "print (a,b,c,d,e)\n",
    "grafo = {a:{b:d1,c:d2},b:{c:d3,d:d4},c:{b:d5,d:d6,e:d7},d:{e:d8},e:{d:d9}}   \n",
    "print (grafo)\n",
    "dijkstra(grafo, a, b)"
   ]
  },
  {
   "cell_type": "code",
   "execution_count": null,
   "metadata": {},
   "outputs": [],
   "source": []
  }
 ],
 "metadata": {
  "kernelspec": {
   "display_name": "Python 3",
   "language": "python",
   "name": "python3"
  },
  "language_info": {
   "codemirror_mode": {
    "name": "ipython",
    "version": 3
   },
   "file_extension": ".py",
   "mimetype": "text/x-python",
   "name": "python",
   "nbconvert_exporter": "python",
   "pygments_lexer": "ipython3",
   "version": "3.7.1"
  }
 },
 "nbformat": 4,
 "nbformat_minor": 2
}
